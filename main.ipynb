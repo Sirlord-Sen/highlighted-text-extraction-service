{
 "metadata": {
  "language_info": {
   "codemirror_mode": {
    "name": "ipython",
    "version": 3
   },
   "file_extension": ".py",
   "mimetype": "text/x-python",
   "name": "python",
   "nbconvert_exporter": "python",
   "pygments_lexer": "ipython3",
   "version": "3.8.2"
  },
  "orig_nbformat": 2,
  "kernelspec": {
   "name": "python382jvsc74a57bd003c114e59dc80d0203cb1afe62eec95438b7df16036ee1f227d042493a378334",
   "display_name": "Python 3.8.2 64-bit"
  },
  "metadata": {
   "interpreter": {
    "hash": "03c114e59dc80d0203cb1afe62eec95438b7df16036ee1f227d042493a378334"
   }
  }
 },
 "nbformat": 4,
 "nbformat_minor": 2,
 "cells": [
  {
   "source": [
    "## Import Libraries"
   ],
   "cell_type": "markdown",
   "metadata": {}
  },
  {
   "source": [
    "## Main code"
   ],
   "cell_type": "markdown",
   "metadata": {}
  },
  {
   "cell_type": "code",
   "execution_count": 1,
   "metadata": {
    "tags": []
   },
   "outputs": [
    {
     "output_type": "stream",
     "name": "stdout",
     "text": [
      "length of contours 6\n"
     ]
    },
    {
     "output_type": "execute_result",
     "data": {
      "text/plain": [
       "-1"
      ]
     },
     "metadata": {},
     "execution_count": 1
    }
   ],
   "source": [
    "import cv2\n",
    "import pytesseract\n",
    "import numpy as np\n",
    "from PIL import ImageGrab\n",
    "from utils import *\n",
    "\n",
    "\n",
    "pytesseract.pytesseract.tesseract_cmd = 'C:\\\\Program Files\\\\Tesseract-OCR\\\\tesseract.exe'\n",
    "img = cv2.imread('images/highlight_1.JPG')\n",
    "# print(img)\n",
    "\n",
    "\n",
    "##### TRACKBARS ######\n",
    "# def empty(x):\n",
    "#     pass\n",
    "\n",
    "# cv2.namedWindow('TrackBars')\n",
    "# cv2.resizeWindow('TrackBars', 640, 240)\n",
    "# cv2.createTrackbar(\"Hue Min\", \"TrackBars\", 0, 179, empty)\n",
    "# cv2.createTrackbar(\"Hue Max\", \"TrackBars\", 179, 179, empty)\n",
    "# cv2.createTrackbar(\"Sat Min\", \"TrackBars\", 51, 255, empty)\n",
    "# cv2.createTrackbar(\"Sat Max\", \"TrackBars\", 255, 255, empty)\n",
    "# cv2.createTrackbar(\"Val Min\", \"TrackBars\", 183, 255, empty)\n",
    "# cv2.createTrackbar(\"Val Max\", \"TrackBars\", 255, 255, empty)\n",
    "\n",
    "\n",
    "# while True:\n",
    "#     imgHSV = cv2.cvtColor(img, cv2.COLOR_BGR2HSV)\n",
    "#     h_min = cv2.getTrackbarPos(\"Hue Min\", \"TrackBars\")\n",
    "#     h_max = cv2.getTrackbarPos(\"Hue Max\", \"TrackBars\")\n",
    "#     s_min = cv2.getTrackbarPos(\"Sat Min\", \"TrackBars\")\n",
    "#     s_max = cv2.getTrackbarPos(\"Sat Max\", \"TrackBars\")\n",
    "#     v_min = cv2.getTrackbarPos(\"Val Min\", \"TrackBars\")\n",
    "#     v_max = cv2.getTrackbarPos(\"Val Max\", \"TrackBars\")\n",
    "\n",
    "#     lower = np.array([h_min, s_min, v_min])\n",
    "#     upper = np.array([h_max, s_max, v_max])\n",
    "#     mask = cv2.inRange(imgHSV, lower, upper)\n",
    "     \n",
    "#     imgResult = cv2.bitwise_and(img, img, mask=mask)\n",
    "\n",
    "# #     # cv2.imshow(\"original\", img)\n",
    "# #     # cv2.imshow(\"HSV\", imgHSV)\n",
    "#     # cv2.imshow(\"mask\", cv2.resize(mask, (700, 450)))\n",
    "#     print(pytesseract.image_to_string(imgResult))\n",
    "#     # cv2.imshow('imgResult', imgResult)\n",
    "#     cv2.waitKey(1)\n",
    "\n",
    "# # hsv = [0, 109, 159, 255, 176, 255]\n",
    "hsv = [0, 179, 49, 255, 183, 255]\n",
    "\n",
    "# # # # #### Step 2 ####\n",
    "imgResult = detectColor(img, hsv)\n",
    "\n",
    "\n",
    "\n",
    "# # # # #### Step 3 & 4 ####\n",
    "imgContours, contours = getContours(imgResult, img, showCanny=False, minArea=1000, filter=4, cThr=[250, 250], draw=True)\n",
    "\n",
    "# # # cv2.imshow('imgContours', imgContours)\n",
    "# print('No. of Highlights:', len(contours))\n",
    "\n",
    "# # # # #### Step 5 ####\n",
    "roiList = getRoi(imgContours, contours)\n",
    "roiDisplay(roiList)\n",
    "\n",
    "# # # # # #### Step 6 ####\n",
    "highlightedText = []\n",
    "for x, roi in enumerate(roiList):\n",
    "    highlightedText.append(pytesseract.image_to_string(roi, lang='eng', config='--psm 6'))\n",
    "saveText(highlightedText)\n",
    "\n",
    "\n",
    "\n",
    "cv2.waitKey(0)\n"
   ]
  },
  {
   "cell_type": "code",
   "execution_count": null,
   "metadata": {},
   "outputs": [],
   "source": []
  }
 ]
}